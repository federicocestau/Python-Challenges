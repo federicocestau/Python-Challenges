{
 "cells": [
  {
   "cell_type": "code",
   "execution_count": 21,
   "metadata": {},
   "outputs": [],
   "source": [
    "import os\n",
    "import csv"
   ]
  },
  {
   "cell_type": "code",
   "execution_count": 9,
   "metadata": {},
   "outputs": [
    {
     "name": "stdout",
     "output_type": "stream",
     "text": [
      "Election Results\n",
      "-------------------------\n",
      "Total Votes: 1048575\n",
      "-------------------------\n",
      "Khan: 63.000% (661583)\n",
      "Correy: 20.000% (209046)\n",
      "Li: 14.000% (146360)\n",
      "O'Tooley: 3.000% (31586)\n",
      "Winner: Khan\n"
     ]
    }
   ],
   "source": [
    "file_to_analyze = \"C:/Users/User/python-challenge/PyPoll/electiondata.csv\"\n",
    "file_to_output = \"C:/Users/User/python-challenge/PyPoll/Analysis2.txt\"\n",
    "\n",
    "candidates = []\n",
    "num_votes = []\n",
    "percent_votes = []\n",
    "total_votes = 0\n",
    "\n",
    "with open(file_to_analyze, newline = \"\") as datafile:\n",
    "\n",
    "    csvreader = csv.reader(datafile, delimiter = \",\")\n",
    "    csv_header = next(csvreader)\n",
    "\n",
    "    for row in csvreader:\n",
    "        total_votes += 1\n",
    "            \n",
    "        if row[2] not in candidates:  \n",
    "                candidates.append(row[2])\n",
    "                index = candidates.index(row[2])        \n",
    "                num_votes.append(1)\n",
    "        else:\n",
    "            index = candidates.index(row[2])\n",
    "            num_votes[index] += 1\n",
    "            \n",
    "    for votes in num_votes:\n",
    "        percentage= ( \"%.3f%%\" % (round((votes/total_votes) * 100)))\n",
    "        percent_votes.append(percentage)\n",
    "        \n",
    "    winner = max(num_votes)\n",
    "    index = num_votes.index(winner)\n",
    "    winning_candidate = candidates[index]\n",
    "        \n",
    "        \n",
    "print(\"Election Results\")\n",
    "print(\"-\"*25)\n",
    "print(f\"Total Votes: {str(total_votes)}\")\n",
    "print(\"-\"*25)\n",
    "\n",
    "for i in range(len(candidates)):\n",
    "    \n",
    "    print(f\"{candidates[i]}: {str(percent_votes[i])} ({str(num_votes[i])})\")\n",
    "    \n",
    "print(f\"Winner: {winning_candidate}\")\n",
    "\n",
    "('Election_Analysis')\n",
    "    \n",
    "with open(file_to_output,\"w\") as txt_file:\n",
    "    \n",
    "    txt_file.write(\"Election Results\")\n",
    "    txt_file.write(\"\\n\")\n",
    "    txt_file.write(\"-------------------------------------------------------------------------------\")\n",
    "    txt_file.write(\"\\n\")\n",
    "    txt_file.write(f\"Total Votes: {str(total_votes)}\")\n",
    "    txt_file.write(\"\\n\")\n",
    "    txt_file.write(\"-------------------------------------------------------------------------------\")\n",
    "    txt_file.write(\"\\n\")\n",
    "    txt_file.write(f\"{candidates[0]}: {str(percent_votes[0])} ({str(num_votes[0])})\")\n",
    "    txt_file.write(\"\\n\")\n",
    "    txt_file.write(f\"{candidates[1]}: {str(percent_votes[1])} ({str(num_votes[1])})\")\n",
    "    txt_file.write(\"\\n\")\n",
    "    txt_file.write(f\"{candidates[2]}: {str(percent_votes[2])} ({str(num_votes[2])})\")\n",
    "    txt_file.write(\"\\n\")\n",
    "    txt_file.write(f\"{candidates[3]}: {str(percent_votes[3])} ({str(num_votes[3])})\")\n",
    "    txt_file.write(\"\\n\")\n",
    "    txt_file.write(\"\\n\")\n",
    "    txt_file.write(f\"Winner: {winning_candidate}\")\n",
    "    txt_file.write(\"\\n\")\n",
    "    \n",
    "    \n"
   ]
  },
  {
   "cell_type": "code",
   "execution_count": null,
   "metadata": {},
   "outputs": [],
   "source": []
  }
 ],
 "metadata": {
  "kernelspec": {
   "display_name": "Python 3",
   "language": "python",
   "name": "python3"
  },
  "language_info": {
   "codemirror_mode": {
    "name": "ipython",
    "version": 3
   },
   "file_extension": ".py",
   "mimetype": "text/x-python",
   "name": "python",
   "nbconvert_exporter": "python",
   "pygments_lexer": "ipython3",
   "version": "3.7.6"
  }
 },
 "nbformat": 4,
 "nbformat_minor": 2
}
