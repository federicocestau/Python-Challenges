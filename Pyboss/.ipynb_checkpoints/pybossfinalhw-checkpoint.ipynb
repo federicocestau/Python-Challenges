{
 "cells": [
  {
   "cell_type": "code",
   "execution_count": 5,
   "metadata": {},
   "outputs": [],
   "source": [
    "import csv\n",
    "import datetime\n",
    "import os"
   ]
  },
  {
   "cell_type": "code",
   "execution_count": 6,
   "metadata": {},
   "outputs": [],
   "source": [
    "pyboss_file = \"C:/Users/User/python-challenge/Pyboss/pyboss.csv\""
   ]
  },
  {
   "cell_type": "code",
   "execution_count": 18,
   "metadata": {},
   "outputs": [
    {
     "name": "stdout",
     "output_type": "stream",
     "text": [
      "['232', '533', '256', '189', '284', '512', '126', '556', '595', '191', '55', '623', '426', '535', '399', '33', '302', '325', '188', '184', '526', '85', '171', '74', '69', '365', '149', '218', '647', '518', '12', '622', '159', '394', '158', '446', '352', '598', '505', '173', '84', '406', '164', '267', '503', '295', '590', '97', '3', '20', '179', '86', '219', '237', '96', '22', '439', '146', '271', '103', '540', '144', '594', '176', '198', '433', '274', '6', '452', '23', '373', '374', '200', '428', '116', '418', '9', '230', '502', '632', '112', '422', '131', '404', '504', '194', '567', '253', '407', '82', '429', '78', '167', '484', '60', '400', '34', '596', '279', '466', '327', '382', '369', '347', '25', '317', '321', '193', '606', '123', '566', '409', '265', '490', '311', '537', '147', '304', '472', '348', '91', '410', '344', '419', '1', '532', '107', '166', '391', '67', '447', '653', '294', '416', '185', '637', '333', '579', '215', '152', '301', '572', '165', '639', '405', '390', '641', '51', '421', '106', '379', '76', '68', '118', '127', '542', '181', '111', '481', '568', '395', '345', '438', '403', '180', '616', '56', '153', '551', '135', '500', '24', '81', '50', '328', '402', '255', '413', '507', '62', '150', '109', '310', '243', '72', '608', '19', '30', '119', '162', '199', '187', '102', '385', '626', '528', '31', '43', '169', '204', '494', '233', '638', '57', '648', '192', '73', '477', '411', '630', '600', '634', '296', '154', '527', '635', '229', '389', '220', '454', '488', '41', '522', '269', '35', '10', '397', '45', '210', '197', '354', '552', '414', '134', '11', '222', '442', '633', '361', '205', '18', '459', '564', '138', '356', '479', '100', '451', '432', '71', '463', '308', '591', '214', '290', '8', '182', '534', '511', '32', '289', '643', '234', '618', '246', '546', '455', '341', '252', '351', '493', '599', '315', '577', '415', '303', '478', '313', '4', '249', '649', '565', '513', '516', '545', '38', '309', '578', '178', '359', '278', '292', '87', '286', '221', '524', '453', '468', '444', '350', '462', '66', '495', '586', '457', '392', '202', '467', '627', '367', '244', '620', '642', '427', '539', '98', '324', '589', '339', '645', '355', '541', '360', '39', '305', '474', '571', '372', '559', '521', '583', '329', '201', '276', '592', '124', '133', '314', '562', '125', '625', '312', '90', '236', '601', '326', '264', '248', '485', '54', '2', '298', '99', '186', '593', '557', '375', '460', '496', '487', '469', '340', '363', '108', '357', '293', '604', '7', '94', '227', '486', '613', '603', '332', '587', '602', '398', '148', '223', '574', '588', '157', '175', '473', '29', '334', '465', '92', '470', '128', '77', '530', '270', '251', '277', '346', '238', '143', '461', '5', '117', '396', '517', '228', '576', '482', '611', '288', '322', '93', '631', '95', '225', '386', '272', '614', '262', '110', '501', '65', '458', '224', '160', '259', '547', '358', '652', '49', '437', '536', '636', '330', '538', '168', '480', '543', '506', '80', '342', '364', '64', '156', '285', '79', '170', '561', '617', '515', '644', '450', '216', '88', '130', '408', '105', '580', '388', '316', '196', '366', '331', '63', '651', '497', '14', '52', '456', '412', '283', '174', '509', '254', '531', '104', '549', '183', '612', '492', '27', '287', '584', '624', '53', '206', '211', '646', '336', '555', '560', '203', '217', '371', '605', '337', '381', '508', '58', '401', '163', '548', '161', '464', '476', '208', '378', '654', '585', '621', '300', '640', '297', '209', '320', '242', '258', '570', '417', '281', '436', '441', '425', '553', '266', '40', '609', '471', '307', '353', '393', '607', '483', '370', '273', '141', '338', '15', '120', '75', '115', '629', '299', '498', '445', '582', '245', '129', '544', '377', '155', '440', '550', '47', '89', '145', '554', '523', '499', '37', '384', '514', '260', '239', '420', '380', '387', '207', '318', '16', '61', '280', '13', '563', '569', '575', '319', '122', '520', '489', '136', '142', '250', '383', '650', '231', '431', '306', '151', '519', '172', '121', '140', '48', '282', '42', '247', '59', '137', '257', '343', '195', '268', '558', '70', '28', '132', '335', '349', '510', '36', '430', '376', '226', '240', '291', '619', '424', '212', '263', '443', '26', '491', '114', '434', '615', '525', '44', '475', '529', '83', '275', '190', '423', '581', '177', '573', '46', '17', '101', '261', '435', '448', '597', '628', '610', '113', '235', '21', '362', '368', '323']\n",
      "['***-**-9165', '***-**-7469', '***-**-6961', '***-**-1797', '***-**-7473', '***-**-9878', '***-**-1242', '***-**-7194', '***-**-2817', '***-**-7563', '***-**-4320', '***-**-4767', '***-**-1946', '***-**-9308', '***-**-2935', '***-**-1689', '***-**-6175', '***-**-2708', '***-**-2571', '***-**-1184', '***-**-3865', '***-**-8194', '***-**-0101', '***-**-5211', '***-**-8507', '***-**-1771', '***-**-3288', '***-**-1423', '***-**-4448', '***-**-9890', '***-**-7188', '***-**-5572', '***-**-3762', '***-**-8531', '***-**-6461', '***-**-8165', '***-**-6488', '***-**-8500', '***-**-1510', '***-**-2496', '***-**-9581', '***-**-1673', '***-**-7226', '***-**-0990', '***-**-5568', '***-**-7615', '***-**-3251', '***-**-0638', '***-**-9014', '***-**-6956', '***-**-0490', '***-**-8446', '***-**-2989', '***-**-3729', '***-**-8927', '***-**-0520', '***-**-1224', '***-**-4523', '***-**-3927', '***-**-8751', '***-**-3694', '***-**-1332', '***-**-2085', '***-**-9488', '***-**-4552', '***-**-4657', '***-**-4763', '***-**-6950', '***-**-8117', '***-**-4879', '***-**-9437', '***-**-7516', '***-**-5454', '***-**-2381', '***-**-6629', '***-**-6820', '***-**-5891', '***-**-5479', '***-**-5125', '***-**-2372', '***-**-2067', '***-**-3153', '***-**-5430', '***-**-1991', '***-**-5141', '***-**-3656', '***-**-7341', '***-**-2860', '***-**-4727', '***-**-4722', '***-**-7664', '***-**-0248', '***-**-3635', '***-**-1731', '***-**-9089', '***-**-3987', '***-**-4237', '***-**-7659', '***-**-0763', '***-**-5889', '***-**-7313', '***-**-5703', '***-**-3866', '***-**-4408', '***-**-0140', '***-**-4744', '***-**-8621', '***-**-4110', '***-**-3251', '***-**-6029', '***-**-9403', '***-**-0121', '***-**-9871', '***-**-1680', '***-**-1632', '***-**-8935', '***-**-7032', '***-**-8629', '***-**-6875', '***-**-5885', '***-**-3052', '***-**-0900', '***-**-3682', '***-**-2028', '***-**-5650', '***-**-1748', '***-**-5306', '***-**-5638', '***-**-7748', '***-**-0270', '***-**-9733', '***-**-6623', '***-**-5215', '***-**-5353', '***-**-2446', '***-**-0204', '***-**-2052', '***-**-7246', '***-**-1620', '***-**-0954', '***-**-9390', '***-**-4596', '***-**-8269', '***-**-8809', '***-**-9514', '***-**-6218', '***-**-1122', '***-**-2869', '***-**-1020', '***-**-5381', '***-**-0742', '***-**-3537', '***-**-4290', '***-**-9960', '***-**-7624', '***-**-4546', '***-**-8342', '***-**-6284', '***-**-8058', '***-**-7363', '***-**-4036', '***-**-4661', '***-**-9764', '***-**-9756', '***-**-3416', '***-**-6513', '***-**-2054', '***-**-9123', '***-**-3200', '***-**-5372', '***-**-5609', '***-**-4275', '***-**-9993', '***-**-9924', '***-**-2355', '***-**-0306', '***-**-8453', '***-**-8774', '***-**-6227', '***-**-1702', '***-**-1781', '***-**-4860', '***-**-2625', '***-**-1997', '***-**-1220', '***-**-2030', '***-**-2706', '***-**-9174', '***-**-1355', '***-**-1832', '***-**-2876', '***-**-9500', '***-**-7778', '***-**-7963', '***-**-4863', '***-**-4474', '***-**-8462', '***-**-8108', '***-**-8720', '***-**-8641', '***-**-0361', '***-**-6681', '***-**-7935', '***-**-5459', '***-**-2521', '***-**-7521', '***-**-2585', '***-**-9365', '***-**-6526', '***-**-6074', '***-**-7121', '***-**-2261', '***-**-6916', '***-**-0453', '***-**-6985', '***-**-9236', '***-**-4031', '***-**-8777', '***-**-0654', '***-**-9693', '***-**-4229', '***-**-2101', '***-**-4765', '***-**-7767', '***-**-8897', '***-**-8472', '***-**-8703', '***-**-9454', '***-**-2712', '***-**-3723', '***-**-5062', '***-**-8562', '***-**-6879', '***-**-2836', '***-**-7268', '***-**-1324', '***-**-4874', '***-**-1149', '***-**-6702', '***-**-0712', '***-**-5711', '***-**-9698', '***-**-9365', '***-**-5394', '***-**-5178', '***-**-9409', '***-**-8123', '***-**-3083', '***-**-1501', '***-**-3695', '***-**-9456', '***-**-7304', '***-**-6746', '***-**-6232', '***-**-3478', '***-**-7254', '***-**-7361', '***-**-7803', '***-**-9830', '***-**-7343', '***-**-3392', '***-**-7573', '***-**-4198', '***-**-3209', '***-**-1385', '***-**-8254', '***-**-3580', '***-**-3730', '***-**-8763', '***-**-8896', '***-**-0691', '***-**-5222', '***-**-3320', '***-**-4496', '***-**-2982', '***-**-0619', '***-**-2154', '***-**-1297', '***-**-6696', '***-**-3318', '***-**-3964', '***-**-3517', '***-**-5090', '***-**-2432', '***-**-2640', '***-**-6874', '***-**-7973', '***-**-2448', '***-**-5793', '***-**-8604', '***-**-3701', '***-**-9797', '***-**-7180', '***-**-1286', '***-**-6950', '***-**-6706', '***-**-9046', '***-**-2951', '***-**-9891', '***-**-4378', '***-**-7312', '***-**-7775', '***-**-9714', '***-**-5101', '***-**-6384', '***-**-6350', '***-**-3109', '***-**-2293', '***-**-3607', '***-**-7866', '***-**-2657', '***-**-4213', '***-**-9208', '***-**-3993', '***-**-6566', '***-**-2608', '***-**-7086', '***-**-9705', '***-**-1325', '***-**-5442', '***-**-3803', '***-**-9692', '***-**-7666', '***-**-3196', '***-**-6634', '***-**-3694', '***-**-1822', '***-**-2907', '***-**-3768', '***-**-3102', '***-**-8653', '***-**-7350', '***-**-1514', '***-**-8838', '***-**-2834', '***-**-4024', '***-**-8227', '***-**-1835', '***-**-0105', '***-**-7617', '***-**-2080', '***-**-0986', '***-**-0642', '***-**-0970', '***-**-7558', '***-**-5043', '***-**-3700', '***-**-8685', '***-**-6503', '***-**-1032', '***-**-7292', '***-**-0757', '***-**-7951', '***-**-2299', '***-**-0852', '***-**-0956', '***-**-8997', '***-**-7230', '***-**-2503', '***-**-5166', '***-**-5314', '***-**-2070', '***-**-3334', '***-**-5765', '***-**-1413', '***-**-5781', '***-**-7070', '***-**-1763', '***-**-0973', '***-**-4889', '***-**-8115', '***-**-6760', '***-**-9915', '***-**-5545', '***-**-9146', '***-**-9548', '***-**-3104', '***-**-0722', '***-**-6672', '***-**-9504', '***-**-8921', '***-**-5984', '***-**-4368', '***-**-5444', '***-**-0316', '***-**-6338', '***-**-3606', '***-**-6123', '***-**-4107', '***-**-3367', '***-**-9252', '***-**-3995', '***-**-0446', '***-**-0011', '***-**-8871', '***-**-0203', '***-**-6687', '***-**-0664', '***-**-8308', '***-**-6226', '***-**-0262', '***-**-2345', '***-**-5133', '***-**-8972', '***-**-6995', '***-**-4558', '***-**-7640', '***-**-6533', '***-**-2665', '***-**-2367', '***-**-9832', '***-**-4493', '***-**-5701', '***-**-0360', '***-**-8818', '***-**-3286', '***-**-9597', '***-**-6184', '***-**-5922', '***-**-5980', '***-**-9015', '***-**-8736', '***-**-0814', '***-**-3602', '***-**-2710', '***-**-4462', '***-**-7837', '***-**-4722', '***-**-6315', '***-**-4006', '***-**-6948', '***-**-0753', '***-**-5396', '***-**-1960', '***-**-9334', '***-**-5026', '***-**-9942', '***-**-1974', '***-**-1343', '***-**-7108', '***-**-9235', '***-**-2444', '***-**-1088', '***-**-9682', '***-**-5861', '***-**-2759', '***-**-9696', '***-**-6909', '***-**-6883', '***-**-5994', '***-**-0969', '***-**-0767', '***-**-4874', '***-**-7599', '***-**-6893', '***-**-5702', '***-**-8341', '***-**-2966', '***-**-1678', '***-**-7063', '***-**-1455', '***-**-8953', '***-**-7263', '***-**-0338', '***-**-4971', '***-**-3897', '***-**-0058', '***-**-4561', '***-**-3073', '***-**-4293', '***-**-5943', '***-**-9502', '***-**-9054', '***-**-4115', '***-**-4786', '***-**-8605', '***-**-3321', '***-**-5135', '***-**-1066', '***-**-2714', '***-**-7441', '***-**-2732', '***-**-5217', '***-**-2675', '***-**-2487', '***-**-2750', '***-**-7284', '***-**-2839', '***-**-6558', '***-**-6917', '***-**-0504', '***-**-3545', '***-**-3105', '***-**-2473', '***-**-9008', '***-**-6344', '***-**-6834', '***-**-9019', '***-**-0535', '***-**-5376', '***-**-7739', '***-**-5871', '***-**-0878', '***-**-4304', '***-**-4469', '***-**-9164', '***-**-0208', '***-**-8509', '***-**-2578', '***-**-3049', '***-**-1931', '***-**-8557', '***-**-0748', '***-**-7178', '***-**-1601', '***-**-4865', '***-**-6773', '***-**-3599', '***-**-3704', '***-**-0782', '***-**-9182', '***-**-3553', '***-**-8647', '***-**-4059', '***-**-2311', '***-**-3850', '***-**-3080', '***-**-7622', '***-**-1133', '***-**-9729', '***-**-0082', '***-**-0441', '***-**-8195', '***-**-2313', '***-**-7899', '***-**-8363', '***-**-6056', '***-**-5606', '***-**-5595', '***-**-2641', '***-**-0897', '***-**-4102', '***-**-8386', '***-**-9188', '***-**-2538', '***-**-5743', '***-**-3058', '***-**-9514', '***-**-9385', '***-**-6614', '***-**-9230', '***-**-7301', '***-**-7815', '***-**-2415', '***-**-6058', '***-**-4094', '***-**-2639', '***-**-7798', '***-**-9332', '***-**-2962', '***-**-2369', '***-**-7702', '***-**-9532', '***-**-3823', '***-**-1036', '***-**-6315', '***-**-5707', '***-**-2817', '***-**-2336', '***-**-1621', '***-**-2601', '***-**-9225', '***-**-1432', '***-**-3264', '***-**-8887', '***-**-5268', '***-**-3828', '***-**-3579', '***-**-1601', '***-**-7577', '***-**-3388', '***-**-4296', '***-**-0194', '***-**-0726', '***-**-9168', '***-**-0670', '***-**-2300', '***-**-3977', '***-**-0042', '***-**-9917', '***-**-5413', '***-**-1929', '***-**-9637', '***-**-9491', '***-**-9330', '***-**-5423', '***-**-3001', '***-**-4302', '***-**-7163', '***-**-4046', '***-**-3430', '***-**-3711', '***-**-7432', '***-**-4649', '***-**-4632', '***-**-5032', '***-**-4681', '***-**-9006', '***-**-4958', '***-**-0071', '***-**-0149', '***-**-4571', '***-**-9042', '***-**-7692', '***-**-3939', '***-**-3026', '***-**-9579', '***-**-3579', '***-**-3531', '***-**-6430', '***-**-1806', '***-**-7300', '***-**-6921', '***-**-7030', '***-**-0679', '***-**-7548', '***-**-8004', '***-**-4382', '***-**-1869', '***-**-7830', '***-**-3506', '***-**-9081', '***-**-1468', '***-**-4751', '***-**-2351', '***-**-9155', '***-**-6532', '***-**-2606', '***-**-7849', '***-**-1729', '***-**-0700', '***-**-3810', '***-**-4294', '***-**-1754', '***-**-3822', '***-**-8921', '***-**-6836', '***-**-1332', '***-**-9413', '***-**-7592']\n",
      "['John', 'Nathan', 'Amanda', 'Heather', 'Daniel', 'Danny', 'Gary', 'Robin', 'Michelle', 'Kimberly', 'Morgan', 'Mason', 'Amy', 'Danielle', 'Charles', 'Nicholas', 'Tracey', 'Renee', 'Joseph', 'Jeremy', 'Anthony', 'Kristen', 'Mark', 'Robert', 'Michael', 'Kristine', 'April', 'Pamela', 'Ronald', 'Thomas', 'Dakota', 'Jennifer', 'Beverly', 'Mark', 'Amy', 'Benjamin', 'Stephen', 'Brandi', 'Ashley', 'Alisha', 'Robert', 'Sandra', 'Katherine', 'Stacy', 'Frank', 'Shannon', 'Brenda', 'Paula', 'Jennifer', 'David', 'William', 'Christopher', 'Matthew', 'Gabriela', 'Allison', 'Isaac', 'Cheryl', 'Julie', 'Michael', 'Melinda', 'Robert', 'Julie', 'Steven', 'Hailey', 'Dillon', 'Hannah', 'Jeffrey', 'Daniel', 'Bryan', 'Denise', 'Alicia', 'William', 'Dustin', 'Jessica', 'Rebecca', 'Katherine', 'Sarah', 'Jermaine', 'Michael', 'Kirsten', 'Rachael', 'Leon', 'David', 'Emily', 'Troy', 'Stephanie', 'Michele', 'Eric', 'Jonathan', 'Kevin', 'Howard', 'Stacy', 'John', 'Julia', 'Allen', 'James', 'Ralph', 'Megan', 'Ashley', 'Bonnie', 'Andrew', 'Tonya', 'Michelle', 'Mark', 'Chelsea', 'Amanda', 'Paige', 'Rhonda', 'Jasmine', 'Amy', 'David', 'Robert', 'Paul', 'Paul', 'Jessica', 'Anthony', 'William', 'Sheri', 'Kelly', 'Darren', 'Darlene', 'Rachel', 'David', 'Christina', 'Andrea', 'Jennifer', 'Shirley', 'Adrian', 'George', 'Hailey', 'Tiffany', 'Mary', 'Robert', 'Barbara', 'Angela', 'Brett', 'Troy', 'Garrett', 'James', 'Mary', 'Alexandra', 'Aaron', 'Thomas', 'Charlene', 'Mary', 'Kayla', 'Kimberly', 'Nicholas', 'Rebecca', 'Mark', 'Adam', 'Steve', 'Victoria', 'Kathy', 'Michael', 'Brian', 'Martha', 'Paul', 'Dawn', 'Amber', 'Christopher', 'Stacy', 'Danielle', 'Taylor', 'Donna', 'Anne', 'Theresa', 'Lori', 'Alexandria', 'Stephen', 'Jennifer', 'Pamela', 'Brendan', 'Richard', 'Michael', 'Patricia', 'Elizabeth', 'Christopher', 'Isaac', 'Adriana', 'David', 'Matthew', 'Pamela', 'Charles', 'Daniel', 'Jimmy', 'Rebecca', 'Emily', 'Chad', 'Todd', 'Brian', 'Katherine', 'Joseph', 'David', 'Janice', 'Anna', 'Katie', 'Maria', 'Ashley', 'Amy', 'Heather', 'John', 'John', 'Kimberly', 'Christopher', 'Daniel', 'Miranda', 'Gregory', 'Daniel', 'Susan', 'Rick', 'Sean', 'Alan', 'Robin', 'Nicole', 'Deanna', 'Joshua', 'Daniel', 'William', 'Kristin', 'Kimberly', 'Michael', 'Jason', 'Jonathon', 'Andrea', 'Anthony', 'Anthony', 'Paul', 'Susan', 'Scott', 'Jennifer', 'Alexander', 'Laura', 'Derek', 'Daniel', 'Kelly', 'Lauren', 'Aaron', 'Julia', 'Cheryl', 'Donna', 'Matthew', 'Nancy', 'Ashley', 'Andrew', 'Joseph', 'Yvette', 'Carrie', 'Ashley', 'Craig', 'Jerome', 'Kevin', 'Travis', 'Rodney', 'Theresa', 'Wayne', 'Mary', 'Matthew', 'Lee', 'James', 'Angela', 'Allen', 'Darrell', 'Patrick', 'Tyler', 'Michelle', 'Scott', 'Maria', 'Amy', 'Jacob', 'Amanda', 'Edward', 'Debra', 'Gregory', 'Suzanne', 'Ann', 'Michelle', 'Adam', 'Donna', 'Pamela', 'Victor', 'Matthew', 'Kevin', 'Alyssa', 'Mark', 'Michael', 'Cole', 'Michael', 'Shaun', 'Victoria', 'Brian', 'Jose', 'John', 'Stephanie', 'Lisa', 'Cody', 'Ann', 'Paula', 'Patrick', 'Dennis', 'David', 'Tina', 'Bridget', 'Adrian', 'Andrea', 'David', 'Katherine', 'Kevin', 'Latoya', 'Tricia', 'David', 'Gina', 'Tamara', 'John', 'Craig', 'Desiree', 'Samantha', 'David', 'Caroline', 'Karen', 'Daniel', 'Brent', 'Mitchell', 'Annette', 'Wendy', 'Alexis', 'Jeffrey', 'Jessica', 'Sherry', 'Jennifer', 'Scott', 'Denise', 'Rebecca', 'Sean', 'Mary', 'Ralph', 'Thomas', 'Christopher', 'Allison', 'Charles', 'Lawrence', 'Christopher', 'William', 'Samuel', 'Brian', 'Amanda', 'Cody', 'Sherry', 'Christine', 'Kristy', 'Amy', 'Haley', 'Michael', 'Kelly', 'Rachel', 'Kristine', 'Vincent', 'Elizabeth', 'Mark', 'Sheri', 'Daniel', 'Dawn', 'Evan', 'Paul', 'Tracy', 'Charles', 'Ashley', 'Roberto', 'Margaret', 'Michelle', 'Mike', 'Alexandra', 'Mark', 'Carol', 'Daniel', 'Sandra', 'Sarah', 'Sydney', 'Jonathan', 'Jennifer', 'Kenneth', 'Joseph', 'Jennifer', 'David', 'Jeffrey', 'Jeffery', 'Laura', 'Derek', 'Brooke', 'Peter', 'Alex', 'Michael', 'Katherine', 'Daniel', 'Ronald', 'Austin', 'Brandon', 'Alexander', 'Stephanie', 'Gregory', 'Jonathan', 'Michelle', 'Justin', 'Michael', 'Travis', 'Susan', 'Emily', 'Sandra', 'Jessica', 'Timothy', 'Amanda', 'Jeffery', 'Brian', 'Randy', 'Duane', 'Colleen', 'Brian', 'Cynthia', 'Donald', 'Lisa', 'Dustin', 'Jay', 'Beth', 'Mary', 'Joshua', 'Jillian', 'Anthony', 'Meghan', 'Andrea', 'Megan', 'Sarah', 'Kaylee', 'Joseph', 'Donna', 'Brandi', 'James', 'Jonathan', 'Christine', 'Christopher', 'David', 'Gregory', 'Shannon', 'James', 'Michael', 'Jennifer', 'Michelle', 'Andrew', 'Anna', 'William', 'Cynthia', 'Bruce', 'Amanda', 'Joshua', 'Carla', 'Mark', 'Stephanie', 'Cameron', 'Harold', 'Sara', 'Caroline', 'Nicole', 'Jacqueline', 'Alexander', 'Heather', 'Joseph', 'Timothy', 'Gregory', 'Thomas', 'Timothy', 'Jennifer', 'Andrew', 'Dale', 'Jennifer', 'Antonio', 'Joshua', 'Edward', 'Lee', 'Wyatt', 'Michelle', 'Joanna', 'Joseph', 'Ariel', 'Shawn', 'Jose', 'Caroline', 'David', 'Kelly', 'Kyle', 'Carrie', 'Catherine', 'Amanda', 'Katherine', 'Rodney', 'Savannah', 'Claudia', 'Roy', 'Michelle', 'Amanda', 'Theresa', 'Debra', 'John', 'Beth', 'Erica', 'Kimberly', 'Kyle', 'Nicole', 'Bonnie', 'Maurice', 'Corey', 'Brett', 'Melody', 'James', 'Robert', 'Caroline', 'Megan', 'Shawn', 'David', 'Julie', 'Briana', 'Robin', 'Albert', 'Mark', 'Elizabeth', 'Tracy', 'Patricia', 'Tammy', 'Roger', 'Kelly', 'Charles', 'David', 'David', 'Valerie', 'Sarah', 'Christina', 'Cynthia', 'Michelle', 'Amanda', 'Jeff', 'Patrick', 'Elizabeth', 'Noah', 'Caroline', 'Andrea', 'Sara', 'Jennifer', 'Deanna', 'Kristina', 'Laura', 'Matthew', 'Tamara', 'Samantha', 'John', 'Andrea', 'Lori', 'Ronald', 'Chelsea', 'Daniel', 'Jonathan', 'Jessica', 'Timothy', 'Donna', 'Tonya', 'Pamela', 'Michelle', 'Alexander', 'Jay', 'Teresa', 'Bradley', 'Rhonda', 'Brandon', 'Brandon', 'Barbara', 'James', 'Drew', 'Virginia', 'Mary', 'Ryan', 'Amanda', 'Morgan', 'Kimberly', 'Kathleen', 'Diana', 'Logan', 'Tracy', 'Edwin', 'Kelly', 'Robert', 'Jane', 'Denise', 'Jonathon', 'Amanda', 'Heather', 'Kathryn', 'Cory', 'Ryan', 'Sara', 'Daniel', 'Paul', 'Elizabeth', 'Ann', 'Thomas', 'Brian', 'Donna', 'Kimberly', 'Jeremy', 'Dennis', 'Kenneth', 'Tyler', 'Scott', 'Derrick', 'Christine', 'Julie', 'Rachel', 'Kyle', 'Nancy', 'John', 'Robert', 'Keith', 'Dennis', 'Ronald', 'Leslie', 'Maria', 'Melissa', 'Joshua', 'Crystal', 'Sheri', 'Steven', 'Linda', 'John', 'Mark', 'Diana', 'Karen', 'Laura', 'Diana', 'Samantha', 'Kayla', 'Crystal', 'Brooke', 'John', 'Karla', 'Jennifer', 'Blake', 'Michael', 'Jermaine', 'Patricia', 'Cameron', 'Michelle', 'Hannah', 'Erica', 'Jeremy']\n",
      "['Mathews', 'Moore', 'Douglas', 'Andrews', 'Hernandez', 'Pena', 'Knight', 'Carroll', 'Dickerson', 'Gallegos', 'Parker', 'Rhodes', 'Griffin', 'House', 'Greene', 'Martinez', 'Meadows', 'Evans', 'Estrada', 'Warner', 'Rodriguez', 'Lopez', 'Mcdonald', 'Freeman', 'Reynolds', 'Little', 'Barnes', 'Hodges', 'Gilbert', 'Cooper', 'Harrington', 'Porter', 'Jordan', 'Brown', 'Ford', 'King', 'Bryant', 'Williams', 'Hutchinson', 'Pacheco', 'Campbell', 'Sanders', 'Hensley', 'Cox', 'Barton', 'Kramer', 'James', 'Edwards', 'Rowe', 'Foster', 'Boyle', 'Greene', 'Fuller', 'Nguyen', 'Diaz', 'Jordan', 'Bailey', 'Castillo', 'Adams', 'Parsons', 'Campbell', 'Nelson', 'Nelson', 'Lynn', 'Nguyen', 'Miller', 'Harris', 'Welch', 'Jackson', 'George', 'Carney', 'Peters', 'Drake', 'Thornton', 'Wilson', 'Lane', 'Harper', 'Hill', 'Marshall', 'Mcbride', 'Holmes', 'Foster', 'Mcclain', 'Lawrence', 'Booth', 'Ho', 'Hendricks', 'Harper', 'Gomez', 'Garcia', 'Lawson', 'Robertson', 'Beck', 'Morgan', 'Leon', 'Rios', 'Wells', 'Chavez', 'Patrick', 'Bowen', 'Lawson', 'Chavez', 'Larson', 'Garrett', 'Rivera', 'Krause', 'Spencer', 'Gonzales', 'Kelly', 'Sherman', 'Arroyo', 'Lin', 'Wilson', 'Meyers', 'Elliott', 'Richmond', 'Rivera', 'Villegas', 'Hopkins', 'Farrell', 'Harmon', 'Lyons', 'Jacobs', 'Weeks', 'Anderson', 'Smith', 'Andrews', 'Rivera', 'Mckinney', 'Boyd', 'Harris', 'Hunter', 'Edwards', 'Lambert', 'Armstrong', 'Ward', 'Sanchez', 'Carter', 'Reeves', 'Baker', 'Bradley', 'James', 'Wood', 'Jackson', 'Robbins', 'Washington', 'Knapp', 'Brown', 'Marshall', 'Smith', 'Harrell', 'Daniels', 'Potter', 'Preston', 'Donaldson', 'Bridges', 'Gonzalez', 'Rogers', 'Galvan', 'West', 'Guerrero', 'Brooks', 'Kaiser', 'Boyle', 'Howard', 'Rios', 'Barnes', 'Tate', 'Baker', 'Hensley', 'Fischer', 'Robinson', 'Gonzalez', 'Turner', 'Robinson', 'Sharp', 'Avila', 'Martinez', 'Woods', 'Wolf', 'Pearson', 'Kramer', 'Archer', 'Stout', 'Boyd', 'Jones', 'Hammond', 'Diaz', 'Wise', 'Duran', 'Mclaughlin', 'Rogers', 'Adams', 'Lowery', 'Young', 'Matthews', 'Garcia', 'Estrada', 'Smith', 'Wright', 'Scott', 'Anderson', 'Anderson', 'Harris', 'Smith', 'Singh', 'Nguyen', 'Simpson', 'Brown', 'Thompson', 'Johns', 'Calhoun', 'Holden', 'Silva', 'Conrad', 'Russell', 'Bailey', 'Patrick', 'Smith', 'Grant', 'Velasquez', 'Dalton', 'Shaw', 'Olson', 'Perry', 'Nguyen', 'Christensen', 'Murphy', 'Stewart', 'Warren', 'Avery', 'Vaughan', 'Parker', 'Harrington', 'Wells', 'Phillips', 'Bennett', 'Wolf', 'Wright', 'Dennis', 'Lopez', 'Gibbs', 'Mitchell', 'Bullock', 'Moore', 'Martinez', 'Rodriguez', 'Barber', 'Sherman', 'Garcia', 'Brown', 'Beck', 'Hansen', 'Cook', 'Brown', 'Mercer', 'Lee', 'Martin', 'Weber', 'Wilson', 'Clark', 'Flynn', 'Coleman', 'Wells', 'Beck', 'Jenkins', 'Miller', 'Mcmillan', 'Waller', 'Thomas', 'Jones', 'Padilla', 'Best', 'Roberts', 'Wheeler', 'Lewis', 'Peterson', 'Thomas', 'Owens', 'Lyons', 'Lopez', 'Miller', 'Foster', 'Stokes', 'Saunders', 'Chapman', 'Farrell', 'Estrada', 'Martinez', 'Moon', 'Peters', 'Gonzalez', 'Paul', 'Smith', 'Wilson', 'Duran', 'Johnson', 'Hernandez', 'Barber', 'Alvarado', 'Peterson', 'Williams', 'Koch', 'Hernandez', 'Potter', 'Williams', 'Wright', 'Taylor', 'Mitchell', 'Smith', 'Miles', 'Hoffman', 'Whitney', 'Garcia', 'Nunez', 'Ross', 'Ramirez', 'Patton', 'Lopez', 'Malone', 'Wright', 'Miller', 'Meyer', 'Flores', 'Hendrix', 'Cross', 'Jones', 'Walsh', 'Henderson', 'Johnson', 'Ellison', 'Baldwin', 'James', 'Gonzales', 'Chavez', 'Martinez', 'Stone', 'Anderson', 'Garcia', 'Hall', 'Roach', 'Dougherty', 'Small', 'May', 'Lopez', 'Clark', 'Taylor', 'Love', 'Stone', 'Diaz', 'Long', 'Myers', 'Holden', 'Ferrell', 'Valdez', 'Roberson', 'Watson', 'Bailey', 'Mcmillan', 'Long', 'Mccall', 'Malone', 'Romero', 'Adams', 'Holt', 'Wheeler', 'Harris', 'Schmidt', 'Barton', 'Diaz', 'Duncan', 'Thomas', 'Murillo', 'Dyer', 'Williams', 'Suarez', 'Hamilton', 'Floyd', 'Hall', 'Kim', 'Sanchez', 'Carroll', 'Arnold', 'Le', 'Clark', 'Reed', 'Kim', 'Obrien', 'Bishop', 'Miles', 'Owen', 'Fowler', 'Rose', 'Waller', 'Johnson', 'Gutierrez', 'Chang', 'Murphy', 'Mendoza', 'Moore', 'Mendoza', 'Phillips', 'Morgan', 'Hubbard', 'Little', 'Kennedy', 'Mcgrath', 'Griffin', 'Sullivan', 'Mendoza', 'Pearson', 'Burnett', 'Williams', 'Dorsey', 'Williams', 'Beasley', 'Jackson', 'Price', 'Carter', 'Schmitt', 'Nichols', 'Brown', 'Lynch', 'Mitchell', 'Rush', 'David', 'Delgado', 'Wilson', 'Montgomery', 'Gray', 'Brooks', 'Clark', 'Martin', 'Rose', 'Sawyer', 'Torres', 'Malone', 'Williams', 'Young', 'Turner', 'Estes', 'Vaughn', 'Mclaughlin', 'Brown', 'Crawford', 'Carr', 'Love', 'Bennett', 'Watts', 'Williams', 'Miles', 'Wilson', 'Riley', 'Torres', 'Green', 'Goodwin', 'Allen', 'Li', 'Curry', 'Wyatt', 'Perez', 'Garcia', 'Wright', 'Farrell', 'Fernandez', 'Chandler', 'Jackson', 'Patterson', 'Suarez', 'Jensen', 'Hogan', 'Hartman', 'Williams', 'Perez', 'Hicks', 'Thompson', 'Zamora', 'Rivers', 'Reeves', 'Hopkins', 'Mitchell', 'Ray', 'Murray', 'Spears', 'Mayer', 'Weaver', 'Sullivan', 'Ramirez', 'Davis', 'Martinez', 'Lewis', 'Bailey', 'Smith', 'Saunders', 'Oneal', 'Johnson', 'Smith', 'Haney', 'Fletcher', 'Green', 'Cox', 'Harris', 'Mcconnell', 'Johnson', 'Aguirre', 'English', 'Turner', 'Gillespie', 'Adams', 'Nelson', 'Nelson', 'Young', 'Smith', 'Larson', 'Robinson', 'Edwards', 'Evans', 'Price', 'Webster', 'Oconnor', 'Davidson', 'Chen', 'Lynn', 'Gonzalez', 'Fletcher', 'Salinas', 'Wright', 'Castillo', 'Kelley', 'Johnson', 'Cervantes', 'Lopez', 'Hayes', 'Arnold', 'Bennett', 'Huang', 'Dodson', 'Hawkins', 'Taylor', 'Howard', 'White', 'Jackson', 'Wright', 'Smith', 'Rodriguez', 'Terrell', 'Summers', 'Mercado', 'Kane', 'White', 'Thompson', 'Mcmillan', 'Webb', 'Odonnell', 'Huerta', 'Foster', 'Lopez', 'Jones', 'Gaines', 'Morris', 'Campbell', 'Martinez', 'Moore', 'Ali', 'Gibson', 'Smith', 'Watkins', 'Guzman', 'Young', 'Davis', 'Farmer', 'Murphy', 'King', 'Kelly', 'Wise', 'Hernandez', 'Russell', 'Smith', 'Dunn', 'Shaw', 'Klein', 'Meyers', 'Smith', 'Martin', 'Martin', 'Moran', 'Smith', 'Martinez', 'Castillo', 'Brock', 'Franco', 'Robinson', 'Stout', 'Hopkins', 'Snyder', 'Walker', 'Garcia', 'Evans', 'Olson', 'Romero', 'Jensen', 'Davila', 'Howard', 'Massey', 'Cross', 'Thomas', 'Martin', 'Brewer', 'Brooks', 'Fritz', 'Munoz', 'Robbins', 'Cook', 'Hoffman', 'Nguyen', 'Wells', 'Ellison', 'Robinson', 'Osborn', 'Hays', 'Brown', 'Chapman', 'Torres', 'Weaver', 'Martin', 'Ball', 'Ritter', 'Krause', 'Myers', 'White', 'Smith', 'Lyons', 'Glenn', 'Spence', 'Farley', 'Mitchell', 'Myers', 'Jones', 'Mueller', 'Rosales', 'Brown', 'Jimenez', 'Garcia', 'Quinn', 'Cruz', 'Mcintosh', 'Brewer', 'Nolan', 'Johnson', 'Obrien']\n",
      "['ND', 'ME', 'ID', 'VT', 'CO', 'MN', 'AR', 'CA', 'TN', 'OR', 'TN', 'MD', 'MA', 'ME', 'KY', 'LA', 'RI', 'MT', 'PA', 'AL', 'ID', 'VA', 'MT', 'AR', 'CA', 'SD', 'RI', 'UT', 'WY', 'CO', 'VA', 'WI', 'NM', 'CA', 'NC', 'RI', 'SD', 'MD', 'SC', 'MI', 'SD', 'RI', 'CT', 'AL', 'MA', 'SC', 'HI', 'KS', 'NY', 'MO', 'AR', 'ID', 'MS', 'WA', 'AR', 'TX', 'NC', 'AK', 'FL', 'NE', 'DE', 'SD', 'VT', 'CA', 'IL', 'NY', 'KY', 'IL', 'MD', 'WI', 'OH', 'KY', 'WV', 'KS', 'MI', 'NH', 'AK', 'NJ', 'MI', 'IA', 'GA', 'SC', 'OH', 'TN', 'TN', 'KS', 'MS', 'NV', 'SD', 'NV', 'MI', 'WY', 'AR', 'WI', 'MI', 'ID', 'KS', 'CT', 'WY', 'ID', 'MT', 'MT', 'FL', 'WY', 'NH', 'IL', 'NY', 'ID', 'MN', 'NJ', 'FL', 'AZ', 'IA', 'HI', 'OH', 'AR', 'SD', 'OR', 'HI', 'CA', 'WV', 'ME', 'FL', 'PA', 'CT', 'GA', 'OH', 'MA', 'UT', 'NY', 'WV', 'TX', 'GA', 'ID', 'NY', 'MN', 'OK', 'CA', 'IN', 'MI', 'AL', 'OR', 'TN', 'WY', 'FL', 'CT', 'CO', 'SC', 'PA', 'ND', 'WV', 'CO', 'UT', 'LA', 'CA', 'MN', 'KS', 'MT', 'TN', 'ND', 'WY', 'SC', 'AL', 'MD', 'CA', 'HI', 'CT', 'NM', 'NV', 'GA', 'UT', 'NM', 'SC', 'TN', 'IL', 'MD', 'NH', 'CT', 'AK', 'OR', 'AL', 'RI', 'WV', 'KS', 'NY', 'MA', 'LA', 'AK', 'CO', 'KY', 'PA', 'ME', 'WI', 'UT', 'WA', 'TN', 'AK', 'LA', 'TX', 'CA', 'NH', 'NY', 'UT', 'IA', 'WI', 'VA', 'ME', 'CO', 'NM', 'TN', 'NV', 'SD', 'PA', 'AK', 'SD', 'MD', 'WV', 'GA', 'AR', 'WV', 'GA', 'WI', 'KY', 'SC', 'CO', 'WI', 'OH', 'NJ', 'GA', 'OH', 'LA', 'MI', 'CO', 'AR', 'CA', 'MI', 'IA', 'WY', 'CO', 'TX', 'DE', 'ID', 'GA', 'MS', 'ID', 'NH', 'OR', 'LA', 'NE', 'PA', 'MD', 'TN', 'DE', 'RI', 'MN', 'MA', 'OH', 'ID', 'CA', 'OR', 'MN', 'NH', 'WI', 'MS', 'HI', 'NE', 'WY', 'TX', 'MA', 'MS', 'MN', 'PA', 'ND', 'IN', 'WI', 'MT', 'MA', 'VA', 'AL', 'AR', 'NV', 'CO', 'WI', 'OH', 'VT', 'OR', 'IN', 'OH', 'NC', 'AZ', 'HI', 'MD', 'KY', 'NH', 'AZ', 'NM', 'NE', 'CA', 'NY', 'MT', 'LA', 'OR', 'WY', 'NE', 'NH', 'MA', 'AR', 'NH', 'ME', 'CA', 'MI', 'UT', 'MO', 'TX', 'DE', 'MS', 'MD', 'PA', 'OK', 'CO', 'FL', 'HI', 'RI', 'NE', 'WY', 'MN', 'SD', 'RI', 'FL', 'OK', 'NH', 'AL', 'MA', 'MO', 'PA', 'WA', 'DE', 'NC', 'LA', 'PA', 'KY', 'AL', 'CO', 'NJ', 'DE', 'MN', 'SD', 'OR', 'KS', 'IA', 'FL', 'MD', 'IN', 'NH', 'UT', 'MN', 'RI', 'MI', 'MI', 'OH', 'NE', 'TN', 'NM', 'WV', 'AK', 'CA', 'IL', 'AL', 'ID', 'ID', 'MD', 'SD', 'MI', 'HI', 'NH', 'GA', 'ND', 'CT', 'NE', 'MN', 'CA', 'ND', 'AL', 'MI', 'MO', 'NJ', 'PA', 'NH', 'CA', 'WA', 'AL', 'TN', 'MN', 'KY', 'DE', 'VT', 'AL', 'UT', 'VT', 'MA', 'MD', 'OK', 'MI', 'CT', 'WY', 'ME', 'CO', 'NV', 'WY', 'NM', 'TN', 'KS', 'MT', 'MO', 'NV', 'MA', 'PA', 'SD', 'HI', 'TN', 'NE', 'TX', 'AK', 'TX', 'GA', 'HI', 'FL', 'HI', 'OH', 'NY', 'AR', 'WI', 'AR', 'TN', 'RI', 'DE', 'MN', 'MN', 'NE', 'IL', 'KS', 'AR', 'NC', 'OH', 'FL', 'CT', 'OH', 'TN', 'MN', 'NY', 'IA', 'NE', 'IN', 'CT', 'AZ', 'NC', 'ID', 'GA', 'ID', 'NY', 'MT', 'NC', 'MN', 'MA', 'IL', 'NM', 'WY', 'VA', 'WI', 'GA', 'ND', 'ME', 'OK', 'NC', 'KS', 'OH', 'UT', 'KY', 'PA', 'MA', 'VA', 'OR', 'MS', 'NH', 'WY', 'ME', 'NV', 'WA', 'WA', 'NM', 'MT', 'WV', 'NH', 'IA', 'TX', 'AK', 'NV', 'IA', 'VA', 'SC', 'OH', 'RI', 'MA', 'PA', 'NE', 'HI', 'MD', 'GA', 'OR', 'MD', 'VA', 'ME', 'MS', 'LA', 'WV', 'LA', 'WA', 'PA', 'PA', 'NH', 'CA', 'WY', 'MA', 'WY', 'RI', 'NC', 'MO', 'WA', 'OK', 'DE', 'WA', 'AL', 'CT', 'NY', 'MD', 'UT', 'KS', 'IL', 'MO', 'AZ', 'SC', 'DE', 'OH', 'TN', 'NM', 'OK', 'OR', 'MI', 'PA', 'FL', 'NY', 'NV', 'VA', 'KS', 'OK', 'AK', 'AR', 'MN', 'CO', 'WY', 'NV', 'IA', 'NJ', 'KS', 'CO', 'CT', 'NY', 'WY', 'NE', 'AZ', 'TX', 'AR', 'AK', 'WA', 'OR', 'NY', 'HI', 'DE', 'AZ', 'MA', 'NM', 'TN', 'MN', 'AK', 'MO', 'NV', 'ID', 'AZ', 'LA', 'CO', 'AK', 'MN', 'IA', 'AK', 'MA', 'NE', 'WI', 'MN', 'MA', 'DE', 'OH', 'DE', 'MS', 'MO', 'HI', 'IN', 'MI', 'HI', 'NY', 'IA', 'MO', 'IN', 'NM', 'MT', 'VA', 'NH', 'NE', 'NC', 'MA', 'TX', 'NJ', 'OK', 'NM', 'IA', 'ME', 'AZ', 'OH', 'SD', 'NJ', 'ID', 'IL', 'OK', 'TX', 'MA', 'WA', 'WI', 'OH', 'TN', 'MD', 'IL', 'MA', 'KS', 'IL', 'CA', 'IN', 'NV', 'OK', 'OK', 'LA', 'OR']\n"
     ]
    }
   ],
   "source": [
    "\n",
    "us_state_abbrev = {\n",
    "    'Alabama': 'AL',\n",
    "    'Alaska': 'AK',\n",
    "    'Arizona': 'AZ',\n",
    "    'Arkansas': 'AR',\n",
    "    'California': 'CA',\n",
    "    'Colorado': 'CO',\n",
    "    'Connecticut': 'CT',\n",
    "    'Delaware': 'DE',\n",
    "    'Florida': 'FL',\n",
    "    'Georgia': 'GA',\n",
    "    'Hawaii': 'HI',\n",
    "    'Idaho': 'ID',\n",
    "    'Illinois': 'IL',\n",
    "    'Indiana': 'IN',\n",
    "    'Iowa': 'IA',\n",
    "    'Kansas': 'KS',\n",
    "    'Kentucky': 'KY',\n",
    "    'Louisiana': 'LA',\n",
    "    'Maine': 'ME',\n",
    "    'Maryland': 'MD',\n",
    "    'Massachusetts': 'MA',\n",
    "    'Michigan': 'MI',\n",
    "    'Minnesota': 'MN',\n",
    "    'Mississippi': 'MS',\n",
    "    'Missouri': 'MO',\n",
    "    'Montana': 'MT',\n",
    "    'Nebraska': 'NE',\n",
    "    'Nevada': 'NV',\n",
    "    'New Hampshire': 'NH',\n",
    "    'New Jersey': 'NJ',\n",
    "    'New Mexico': 'NM',\n",
    "    'New York': 'NY',\n",
    "    'North Carolina': 'NC',\n",
    "    'North Dakota': 'ND',\n",
    "    'Ohio': 'OH',\n",
    "    'Oklahoma': 'OK',\n",
    "    'Oregon': 'OR',\n",
    "    'Pennsylvania': 'PA',\n",
    "    'Rhode Island': 'RI',\n",
    "    'South Carolina': 'SC',\n",
    "    'South Dakota': 'SD',\n",
    "    'Tennessee': 'TN',\n",
    "    'Texas': 'TX',\n",
    "    'Utah': 'UT',\n",
    "    'Vermont': 'VT',\n",
    "    'Virginia': 'VA',\n",
    "    'Washington': 'WA',\n",
    "    'West Virginia': 'WV',\n",
    "    'Wisconsin': 'WI',\n",
    "    'Wyoming': 'WY',}\n",
    "hidden = \"***-**-\"\n",
    "empid = []\n",
    "first_name = []\n",
    "last_name = []\n",
    "dob = []\n",
    "ssn = []\n",
    "short_state = []\n",
    "\n",
    "with open(pyboss_file, newline=\"\") as csvfile:\n",
    "    emp_reader = csv.DictReader(csvfile)\n",
    "    \n",
    "    for row in emp_reader:\n",
    "        #acquring\n",
    "        empids = row['Emp ID']\n",
    "        state = row['State']\n",
    "        oldname = row['Name']\n",
    "        newname = oldname.split(\" \")\n",
    "        first = newname[0]\n",
    "        last = newname[1]                                           \n",
    "        olddob = row['DOB']\n",
    "        oldssn = row['SSN']\n",
    "        #dob processing\n",
    "        newdob = datetime.datetime.strptime(olddob, '%m-%d-%Y').strftime('%Y/%m/%d')\n",
    "        #ssn processing\n",
    "        newssn = oldssn[-4:]\n",
    "        cleanedssn = hidden + newssn\n",
    "        #state processing\n",
    "        abbreviation = us_state_abbrev[state]\n",
    "        #appending\n",
    "        empid.append(empids)\n",
    "        dob.append(newdob)\n",
    "        ssn.append(cleanedssn)\n",
    "        first_name.append(first)\n",
    "        last_name.append(last)\n",
    "        short_state.append(abbreviation)\n",
    "        \n",
    "cleaned_csv = zip(empid, first_name,last_name,dob,ssn,short_state)\n",
    "\n",
    "with open(output_file, \"w\",newline='') as datafile:\n",
    "    writer = csv.writer(datafile)\n",
    "    writer.writerow([\"Emp ID\", \"First Name\", \"Last Name\",\"DOB\",\"SSN\",\"State\"])\n",
    "    writer.writerows(cleaned_csv)\n",
    "\n",
    "output_file= os.path.join(\"cleaned_pyboss_file.csv\")\n",
    "\n",
    "\n",
    "                  \n",
    "print(empid)                 \n",
    "print(ssn)\n",
    "print(newdob)\n",
    "print(first_name)\n",
    "print(last_name)\n",
    "print(short_state)"
   ]
  },
  {
   "cell_type": "code",
   "execution_count": 19,
   "metadata": {},
   "outputs": [
    {
     "ename": "PermissionError",
     "evalue": "[Errno 13] Permission denied: 'cleaned_pyboss_file.csv'",
     "output_type": "error",
     "traceback": [
      "\u001b[1;31m---------------------------------------------------------------------------\u001b[0m",
      "\u001b[1;31mPermissionError\u001b[0m                           Traceback (most recent call last)",
      "\u001b[1;32m<ipython-input-19-c1d960b36030>\u001b[0m in \u001b[0;36m<module>\u001b[1;34m\u001b[0m\n\u001b[1;32m----> 1\u001b[1;33m \u001b[1;32mwith\u001b[0m \u001b[0mopen\u001b[0m\u001b[1;33m(\u001b[0m\u001b[0moutput_file\u001b[0m\u001b[1;33m,\u001b[0m \u001b[1;34m\"w\"\u001b[0m\u001b[1;33m,\u001b[0m\u001b[0mnewline\u001b[0m\u001b[1;33m=\u001b[0m\u001b[1;34m''\u001b[0m\u001b[1;33m)\u001b[0m \u001b[1;32mas\u001b[0m \u001b[0mdatafile\u001b[0m\u001b[1;33m:\u001b[0m\u001b[1;33m\u001b[0m\u001b[1;33m\u001b[0m\u001b[0m\n\u001b[0m\u001b[0;32m      2\u001b[0m     \u001b[0mwriter\u001b[0m \u001b[1;33m=\u001b[0m \u001b[0mcsv\u001b[0m\u001b[1;33m.\u001b[0m\u001b[0mwriter\u001b[0m\u001b[1;33m(\u001b[0m\u001b[0mdatafile\u001b[0m\u001b[1;33m)\u001b[0m\u001b[1;33m\u001b[0m\u001b[1;33m\u001b[0m\u001b[0m\n\u001b[0;32m      3\u001b[0m     \u001b[0mwriter\u001b[0m\u001b[1;33m.\u001b[0m\u001b[0mwriterow\u001b[0m\u001b[1;33m(\u001b[0m\u001b[1;33m[\u001b[0m\u001b[1;34m\"Emp ID\"\u001b[0m\u001b[1;33m,\u001b[0m \u001b[1;34m\"First Name\"\u001b[0m\u001b[1;33m,\u001b[0m \u001b[1;34m\"Last Name\"\u001b[0m\u001b[1;33m,\u001b[0m\u001b[1;34m\"SSN\"\u001b[0m\u001b[1;33m,\u001b[0m\u001b[1;34m\"State\"\u001b[0m\u001b[1;33m]\u001b[0m\u001b[1;33m)\u001b[0m\u001b[1;33m\u001b[0m\u001b[1;33m\u001b[0m\u001b[0m\n\u001b[0;32m      4\u001b[0m     \u001b[0mwriter\u001b[0m\u001b[1;33m.\u001b[0m\u001b[0mwriterows\u001b[0m\u001b[1;33m(\u001b[0m\u001b[0mcleaned_csv\u001b[0m\u001b[1;33m)\u001b[0m\u001b[1;33m\u001b[0m\u001b[1;33m\u001b[0m\u001b[0m\n",
      "\u001b[1;31mPermissionError\u001b[0m: [Errno 13] Permission denied: 'cleaned_pyboss_file.csv'"
     ]
    }
   ],
   "source": [
    "\n"
   ]
  },
  {
   "cell_type": "code",
   "execution_count": null,
   "metadata": {},
   "outputs": [],
   "source": []
  }
 ],
 "metadata": {
  "kernelspec": {
   "display_name": "Python 3",
   "language": "python",
   "name": "python3"
  },
  "language_info": {
   "codemirror_mode": {
    "name": "ipython",
    "version": 3
   },
   "file_extension": ".py",
   "mimetype": "text/x-python",
   "name": "python",
   "nbconvert_exporter": "python",
   "pygments_lexer": "ipython3",
   "version": "3.7.6"
  }
 },
 "nbformat": 4,
 "nbformat_minor": 2
}
