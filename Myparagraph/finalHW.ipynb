{
 "cells": [
  {
   "cell_type": "code",
   "execution_count": 5,
   "metadata": {},
   "outputs": [],
   "source": [
    "import re"
   ]
  },
  {
   "cell_type": "code",
   "execution_count": 6,
   "metadata": {},
   "outputs": [
    {
     "name": "stdout",
     "output_type": "stream",
     "text": [
      "Paragraph Analysis\n",
      "--------------------\n",
      "Approximate Word Count:  132\n",
      "Approximate Sentence Count:  5\n",
      "Average Letter Count:  7.29\n",
      "Average Sentence Length:  26.4\n"
     ]
    }
   ],
   "source": [
    "file = 'C:/Users/User/python-challenge/Myparagraph/Paragraph_1.txt'\n",
    "\n",
    "with open(file, 'r') as text:\n",
    "    lines: str = text.read()\n",
    "        \n",
    "sentences = re.split(\"(?<=[.!?]) +\", lines)\n",
    "#print(lines)\n",
    "#print(sentences)\n",
    "sentence_count = len(sentences)\n",
    "#word count - done\n",
    "word_list= []\n",
    "lines = lines.lower()\n",
    "#remove punctuation\n",
    "for char in '-.,\\n':\n",
    "    lines=lines.replace(char, ' ')\n",
    "#split the worlds and put them in a list\n",
    "word_list = lines.split()\n",
    "#loop through the list and start counting rows /words\n",
    "word_count = len(word_list)\n",
    "#letter count\n",
    "letter_count = 0\n",
    "for char in lines:\n",
    "    letter_count+=1\n",
    "alc = letter_count/word_count\n",
    "asl = word_count/sentence_count\n",
    "#Output\n",
    "print(\"Paragraph Analysis\")\n",
    "print(\"-\"*20)\n",
    "print(\"Approximate Word Count:  {}\".format(word_count))\n",
    "print(\"Approximate Sentence Count:  {}\".format(sentence_count))\n",
    "print(\"Average Letter Count:  {:.2f}\".format(alc))\n",
    "print(\"Average Sentence Length:  {}\".format(asl))"
   ]
  },
  {
   "cell_type": "code",
   "execution_count": null,
   "metadata": {},
   "outputs": [],
   "source": []
  },
  {
   "cell_type": "code",
   "execution_count": null,
   "metadata": {},
   "outputs": [],
   "source": []
  }
 ],
 "metadata": {
  "kernelspec": {
   "display_name": "Python 3",
   "language": "python",
   "name": "python3"
  },
  "language_info": {
   "codemirror_mode": {
    "name": "ipython",
    "version": 3
   },
   "file_extension": ".py",
   "mimetype": "text/x-python",
   "name": "python",
   "nbconvert_exporter": "python",
   "pygments_lexer": "ipython3",
   "version": "3.7.4"
  }
 },
 "nbformat": 4,
 "nbformat_minor": 2
}
