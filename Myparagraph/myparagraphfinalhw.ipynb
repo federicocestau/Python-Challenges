{
 "cells": [
  {
   "cell_type": "code",
<<<<<<< HEAD
   "execution_count": 5,
=======
   "execution_count": 1,
>>>>>>> 0d2b44faa67faaa757e63472a2c1153d51b772a3
   "metadata": {},
   "outputs": [],
   "source": [
    "import re"
   ]
  },
  {
   "cell_type": "code",
   "execution_count": 6,
   "metadata": {},
   "outputs": [
    {
<<<<<<< HEAD
     "name": "stdout",
     "output_type": "stream",
     "text": [
      "Paragraph Analysis\n",
      "--------------------\n",
      "Approximate Word Count:  132\n",
      "Approximate Sentence Count:  5\n",
      "Average Letter Count:  7.29\n",
      "Average Sentence Length:  26.4\n"
=======
     "ename": "FileNotFoundError",
     "evalue": "[Errno 2] No such file or directory: 'C:/Users/User/Paragraph_1.txt'",
     "output_type": "error",
     "traceback": [
      "\u001b[1;31m---------------------------------------------------------------------------\u001b[0m",
      "\u001b[1;31mFileNotFoundError\u001b[0m                         Traceback (most recent call last)",
      "\u001b[1;32m<ipython-input-6-a33354796d61>\u001b[0m in \u001b[0;36m<module>\u001b[1;34m\u001b[0m\n\u001b[0;32m      1\u001b[0m \u001b[0mfile\u001b[0m \u001b[1;33m=\u001b[0m \u001b[1;34m'C:/Users/User/Paragraph_1.txt'\u001b[0m\u001b[1;33m\u001b[0m\u001b[1;33m\u001b[0m\u001b[0m\n\u001b[0;32m      2\u001b[0m \u001b[1;33m\u001b[0m\u001b[0m\n\u001b[1;32m----> 3\u001b[1;33m \u001b[1;32mwith\u001b[0m \u001b[0mopen\u001b[0m\u001b[1;33m(\u001b[0m\u001b[0mfile\u001b[0m\u001b[1;33m,\u001b[0m \u001b[1;34m'r'\u001b[0m\u001b[1;33m)\u001b[0m \u001b[1;32mas\u001b[0m \u001b[0mtext\u001b[0m\u001b[1;33m:\u001b[0m\u001b[1;33m\u001b[0m\u001b[1;33m\u001b[0m\u001b[0m\n\u001b[0m\u001b[0;32m      4\u001b[0m     \u001b[0mlines\u001b[0m\u001b[1;33m:\u001b[0m \u001b[0mstr\u001b[0m \u001b[1;33m=\u001b[0m \u001b[0mtext\u001b[0m\u001b[1;33m.\u001b[0m\u001b[0mread\u001b[0m\u001b[1;33m(\u001b[0m\u001b[1;33m)\u001b[0m\u001b[1;33m\u001b[0m\u001b[1;33m\u001b[0m\u001b[0m\n\u001b[0;32m      5\u001b[0m \u001b[1;33m\u001b[0m\u001b[0m\n",
      "\u001b[1;31mFileNotFoundError\u001b[0m: [Errno 2] No such file or directory: 'C:/Users/User/Paragraph_1.txt'"
>>>>>>> 0d2b44faa67faaa757e63472a2c1153d51b772a3
     ]
    }
   ],
   "source": [
<<<<<<< HEAD
    "file = 'C:/Users/User/python-challenge/Myparagraph/Paragraph_1.txt'\n",
=======
    "file = 'C:/Users/User/Paragraph_1.txt'\n",
>>>>>>> 0d2b44faa67faaa757e63472a2c1153d51b772a3
    "\n",
    "with open(file, 'r') as text:\n",
    "    lines: str = text.read()\n",
    "        \n",
    "sentences = re.split(\"(?<=[.!?]) +\", lines)\n",
    "#print(lines)\n",
    "#print(sentences)\n",
    "sentence_count = len(sentences)\n",
    "#word count - done\n",
    "word_list= []\n",
    "lines = lines.lower()\n",
    "#remove punctuation\n",
    "for char in '-.,\\n':\n",
    "    lines=lines.replace(char, ' ')\n",
    "#split the worlds and put them in a list\n",
    "word_list = lines.split()\n",
    "#loop through the list and start counting rows /words\n",
    "word_count = len(word_list)\n",
    "#letter count\n",
    "letter_count = 0\n",
    "for char in lines:\n",
    "    letter_count+=1\n",
    "alc = letter_count/word_count\n",
    "asl = word_count/sentence_count\n",
    "#Output\n",
    "print(\"Paragraph Analysis\")\n",
    "print(\"-\"*20)\n",
    "print(\"Approximate Word Count:  {}\".format(word_count))\n",
    "print(\"Approximate Sentence Count:  {}\".format(sentence_count))\n",
    "print(\"Average Letter Count:  {:.2f}\".format(alc))\n",
    "print(\"Average Sentence Length:  {}\".format(asl))"
   ]
  },
  {
   "cell_type": "code",
   "execution_count": null,
   "metadata": {},
   "outputs": [],
   "source": []
<<<<<<< HEAD
  },
  {
   "cell_type": "code",
   "execution_count": null,
   "metadata": {},
   "outputs": [],
   "source": []
=======
>>>>>>> 0d2b44faa67faaa757e63472a2c1153d51b772a3
  }
 ],
 "metadata": {
  "kernelspec": {
   "display_name": "Python 3",
   "language": "python",
   "name": "python3"
  },
  "language_info": {
   "codemirror_mode": {
    "name": "ipython",
    "version": 3
   },
   "file_extension": ".py",
   "mimetype": "text/x-python",
   "name": "python",
   "nbconvert_exporter": "python",
   "pygments_lexer": "ipython3",
   "version": "3.7.4"
  }
 },
 "nbformat": 4,
 "nbformat_minor": 2
}
