{
 "cells": [
  {
   "cell_type": "code",
   "execution_count": 1,
   "metadata": {},
   "outputs": [],
   "source": [
    "import os\n",
    "import csv"
   ]
  },
  {
   "cell_type": "code",
   "execution_count": 14,
   "metadata": {},
   "outputs": [],
   "source": [
    "File=(\"C:/Users/User/HomeworkPythonPart1.csv\")"
   ]
  },
  {
   "cell_type": "code",
   "execution_count": 34,
   "metadata": {},
   "outputs": [
    {
     "name": "stdout",
     "output_type": "stream",
     "text": [
      "Financial Analysis\n",
      "----------------------------\n",
      "Total Months: 86\n",
      "Total: $38,382,578\n",
      "Average Change: $-2,315.12\n",
      "Greatest Increase in Profits: Feb-12 $1926159\n",
      "Greatest Decrease in Profits: Sep-13 $-2196167\n"
     ]
    }
   ],
   "source": [
    "with open(File) as csvfile:\n",
    "\n",
    "    reader=csv.DictReader(csvfile)\n",
    "\n",
    "    total_months=1\n",
    "\n",
    "    rev_change=0\n",
    "\n",
    "    rev_change_list=[]\n",
    "\n",
    "    months=[]\n",
    "\n",
    "    monthly_rev_change =[]\n",
    "\n",
    "    greatest_decrease= [\"\",0]\n",
    "\n",
    "    greatest_increase=[\"\",0]\n",
    "\n",
    "    prev_rev=int(next(reader)['Profit/Losses'])\n",
    "\n",
    "    total_rev=prev_rev\n",
    "\n",
    "    for row in reader:\n",
    "\n",
    "        total_months += 1\n",
    "\n",
    "        total_rev += int(row[\"Profit/Losses\"])\n",
    "\n",
    "  \n",
    "\n",
    "        rev_change = int(row[\"Profit/Losses\"])-prev_rev\n",
    "\n",
    "        prev_rev = int(row[\"Profit/Losses\"])\n",
    "\n",
    "        rev_change_list.append((rev_change))\n",
    "\n",
    "        months.append(row[\"Date\"])\n",
    "\n",
    "        if (rev_change > greatest_increase[1]):\n",
    "            greatest_increase[0] = row[\"Date\"]\n",
    "            greatest_increase[1] = rev_change\n",
    "\n",
    "        \n",
    "        if (rev_change < greatest_decrease[1]):\n",
    "            greatest_decrease[0] = row[\"Date\"]\n",
    "            greatest_decrease[1] = rev_change\n",
    "            \n",
    "\n",
    "    print('Financial Analysis')\n",
    "\n",
    "    print('----------------------------')\n",
    "\n",
    "    print(f'Total Months: {total_months}')\n",
    "\n",
    "    print(f'Total: ${total_rev:,}')\n",
    "\n",
    "    print(f'Average Change: ${sum(rev_change_list)/(total_months-1):,.2f}')\n",
    "\n",
    "    print(f'Greatest Increase in Profits: {greatest_increase[0]} ${greatest_increase[1]}')\n",
    "\n",
    "    print(f'Greatest Decrease in Profits: {greatest_decrease[0]} ${greatest_decrease[1]}')\n",
    "    \n"
   ]
  },
  {
   "cell_type": "code",
   "execution_count": null,
   "metadata": {},
   "outputs": [],
   "source": [
    "\n",
    "    "
   ]
  },
  {
   "cell_type": "code",
   "execution_count": null,
   "metadata": {},
   "outputs": [],
   "source": []
  }
 ],
 "metadata": {
  "kernelspec": {
   "display_name": "Python 3",
   "language": "python",
   "name": "python3"
  },
  "language_info": {
   "codemirror_mode": {
    "name": "ipython",
    "version": 3
   },
   "file_extension": ".py",
   "mimetype": "text/x-python",
   "name": "python",
   "nbconvert_exporter": "python",
   "pygments_lexer": "ipython3",
   "version": "3.7.4"
  }
 },
 "nbformat": 4,
 "nbformat_minor": 2
}
